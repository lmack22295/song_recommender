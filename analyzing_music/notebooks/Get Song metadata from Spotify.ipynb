{
 "cells": [
  {
   "cell_type": "code",
   "execution_count": 6,
   "metadata": {},
   "outputs": [],
   "source": [
    "import pandas as pd\n",
    "import numpy as np \n",
    "from tqdm import tqdm\n",
    "import spotipy\n",
    "from spotipy.oauth2 import SpotifyClientCredentials #To access authorised Spotify data"
   ]
  },
  {
   "cell_type": "code",
   "execution_count": 7,
   "metadata": {},
   "outputs": [],
   "source": [
    "# Re-used code from: https://medium.com/@RareLoot/extracting-spotify-data-on-your-favourite-artist-via-python-d58bc92a4330"
   ]
  },
  {
   "cell_type": "code",
   "execution_count": 8,
   "metadata": {},
   "outputs": [],
   "source": [
    "# Spotify developer page: https://developer.spotify.com/dashboard/applications/7085a21ce4124b3e89db61d750b133a7\n",
    "client_id = '7085a21ce4124b3e89db61d750b133a7'\n",
    "client_secret = '2b02da51f99f4470a1c2ef91f28a0957'"
   ]
  },
  {
   "cell_type": "code",
   "execution_count": 9,
   "metadata": {},
   "outputs": [],
   "source": [
    "# !pip install spotipy"
   ]
  },
  {
   "cell_type": "code",
   "execution_count": 10,
   "metadata": {},
   "outputs": [
    {
     "ename": "NameError",
     "evalue": "name 'sp' is not defined",
     "output_type": "error",
     "traceback": [
      "\u001b[0;31m---------------------------------------------------------------------------\u001b[0m",
      "\u001b[0;31mNameError\u001b[0m                                 Traceback (most recent call last)",
      "\u001b[0;32m<ipython-input-10-6ec54f867443>\u001b[0m in \u001b[0;36m<module>\u001b[0;34m\u001b[0m\n\u001b[0;32m----> 1\u001b[0;31m \u001b[0msp\u001b[0m\u001b[0;34m.\u001b[0m\u001b[0muser\u001b[0m\u001b[0;34m\u001b[0m\u001b[0m\n\u001b[0m",
      "\u001b[0;31mNameError\u001b[0m: name 'sp' is not defined"
     ]
    }
   ],
   "source": [
    "sp.user"
   ]
  },
  {
   "cell_type": "code",
   "execution_count": 20,
   "metadata": {},
   "outputs": [],
   "source": [
    "client_credentials_manager = SpotifyClientCredentials(client_id=client_id, client_secret=client_secret)\n",
    "sp = spotipy.Spotify(client_credentials_manager=client_credentials_manager) #spotify object to access API #chosen artist"
   ]
  },
  {
   "cell_type": "code",
   "execution_count": 17,
   "metadata": {},
   "outputs": [],
   "source": [
    "def get_artist_uri(artist_name):\n",
    "    result = sp.search(artist_name) #search query\n",
    "    for i in result['tracks']['items']:\n",
    "        if (i['artists'][0]['name'] == artist_name):\n",
    "            return i['artists'][0]['uri']\n",
    "    print(\"Could not find uri for {}\".format(artist_name))\n",
    "    return None\n",
    "\n",
    "def get_album_info_for_artist(name):\n",
    "    #Extract Artist's uri\n",
    "    artist_uri = get_artist_uri(name)\n",
    "    #Pull all of the artist's albums\n",
    "    sp_albums = sp.artist_albums(artist_uri, album_type='album')\n",
    "    #Store artist's albums' names' and uris in separate lists\n",
    "    album_names = []\n",
    "    album_uris = []\n",
    "    for i in range(len(sp_albums['items'])):\n",
    "        album_names.append(sp_albums['items'][i]['name'])\n",
    "        album_uris.append(sp_albums['items'][i]['uri'])\n",
    "\n",
    "    return album_uris, album_names\n",
    "\n",
    "def get_genres_from_artist(artist_name):\n",
    "    artist_uri = get_artist_uri(artist_name)\n",
    "    return sp.artist(artist_uri)['genres']\n",
    "\n",
    "def get_album_tracks(album_uri, album_name):\n",
    "    #Create keys-values of empty lists inside nested dictionary for album\n",
    "    album_dict = dict()\n",
    "    album_dict['album'] = [] #create empty list\n",
    "    album_dict['track_number'] = []\n",
    "    album_dict['id'] = []\n",
    "    album_dict['song_name'] = []\n",
    "    album_dict['song_uri'] = []\n",
    "    tracks = sp.album_tracks(album_uri) #pull data on album tracks\n",
    "    for n in range(len(tracks['items'])): #for each song track\n",
    "        album_dict['album'].append(album_name) #append album name tracked via album_count\n",
    "        album_dict['track_number'].append(tracks['items'][n]['track_number'])\n",
    "        album_dict['id'].append(tracks['items'][n]['id'])\n",
    "        album_dict['song_name'].append(tracks['items'][n]['name'])\n",
    "        album_dict['song_uri'].append(tracks['items'][n]['uri'])\n",
    "    return album_dict\n",
    "\n",
    "def get_song_metadata_from_album(album_uris, album_names):\n",
    "    spotify_albums = dict()\n",
    "    for uri, name in zip(album_uris, album_names): \n",
    "        spotify_albums[uri] = get_album_tracks(uri, name)\n",
    "\n",
    "    track_data = pd.DataFrame()\n",
    "    for k in spotify_albums.keys():\n",
    "        track_data = track_data.append(pd.DataFrame(spotify_albums[k]))\n",
    "    return track_data"
   ]
  },
  {
   "cell_type": "code",
   "execution_count": 11,
   "metadata": {},
   "outputs": [],
   "source": [
    "def build_artist_genre_data(artist_list):\n",
    "    artist_genres = pd.DataFrame()\n",
    "    for artist in artist_list: \n",
    "        artist_genres.append(pd.DataFrame({'artist': artist, 'genres': get_genres_from_artist(artist)}))\n",
    "    return artist_genres"
   ]
  },
  {
   "cell_type": "markdown",
   "metadata": {},
   "source": [
    "### Example: Get Song metadata for one artist"
   ]
  },
  {
   "cell_type": "code",
   "execution_count": 157,
   "metadata": {},
   "outputs": [],
   "source": [
    "artist_name = 'Kanye West'\n",
    "album_uris, album_names = get_album_info_for_artist(artist_name)\n",
    "kanye_songs = get_song_metadata_from_album(album_uris, album_names)"
   ]
  },
  {
   "cell_type": "markdown",
   "metadata": {},
   "source": [
    "### Build music (genre + song metadata) for group of artists"
   ]
  },
  {
   "cell_type": "code",
   "execution_count": 72,
   "metadata": {},
   "outputs": [],
   "source": [
    "artists = ['Kanye West', 'Chance the Rapper', 'Frank Ocean', 'Tame Impala', 'Tash Sultana', 'John Mayer', \n",
    "           'Bon Iver', 'Future', 'Drake', 'The Beatles', 'Snoh Aalegra', 'Goldlink', \n",
    "           'Anderson .Paak', 'Kendrick Lamar', 'Mura Masa', 'Alt-j']"
   ]
  },
  {
   "cell_type": "code",
   "execution_count": 12,
   "metadata": {},
   "outputs": [],
   "source": [
    "def build_artist_song_dataset(artist_list):\n",
    "    song_metadata = pd.DataFrame()\n",
    "    artist_genres = pd.DataFrame()\n",
    "    for artist in artist_list:\n",
    "        try:\n",
    "            album_uris, album_names = get_album_info_for_artist(artist)\n",
    "            curr_song_metadata = get_song_metadata_from_album(album_uris, album_names).assign(artist_name = lambda x: artist)\n",
    "            song_metadata = song_metadata.append(curr_song_metadata)\n",
    "            artist_genres = artist_genres.append(get_genres_from_artist(artist))\n",
    "            print(\"Data for {} albums and genres has been collected\".format(artist))\n",
    "        except Exception: \n",
    "            print(\"Failed to collect data for {} albums and genres\".format(artist))\n",
    "    return song_metadata, artist_genres"
   ]
  },
  {
   "cell_type": "code",
   "execution_count": 13,
   "metadata": {},
   "outputs": [],
   "source": [
    "def audio_features(uris):\n",
    "    # Add new key-values to store audio features\n",
    "    acousticness = []\n",
    "    danceability = []\n",
    "    energy = []\n",
    "    instrumentalness = []\n",
    "    liveness = []\n",
    "    loudness = []\n",
    "    speechiness = []\n",
    "    tempo = []\n",
    "    valence = []\n",
    "    popularity = []\n",
    "    # Create a track counter\n",
    "    for track in tqdm(uris):\n",
    "        # Pull audio features per track\n",
    "        features = sp.audio_features(track)\n",
    "        \n",
    "        # Append to relevant key-value\n",
    "        acousticness.append(features[0]['acousticness'])\n",
    "        danceability.append(features[0]['danceability'])\n",
    "        energy.append(features[0]['energy'])\n",
    "        instrumentalness.append(features[0]['instrumentalness'])\n",
    "        liveness.append(features[0]['liveness'])\n",
    "        loudness.append(features[0]['loudness'])\n",
    "        speechiness.append(features[0]['speechiness'])\n",
    "        tempo.append(features[0]['tempo'])\n",
    "        valence.append(features[0]['valence'])\n",
    "        # Popularity is stored elsewhere\n",
    "        pop = sp.track(track)\n",
    "        popularity.append(pop['popularity'])\n",
    "    \n",
    "    return pd.DataFrame({'uri': uris, \n",
    "            'danceability': danceability, \n",
    "            'energy': energy, \n",
    "            'accousticness': acousticness,\n",
    "            'instrumentalness': instrumentalness,\n",
    "            'liveness': liveness, \n",
    "            'loudness': loudness, \n",
    "            'speechiness': speechiness, \n",
    "            'tempo': tempo, \n",
    "            'valence': valence, \n",
    "            'popularity': popularity})"
   ]
  },
  {
   "cell_type": "code",
   "execution_count": 74,
   "metadata": {},
   "outputs": [
    {
     "name": "stdout",
     "output_type": "stream",
     "text": [
      "Data for Kanye West albums and genres has been collected\n",
      "Data for Chance the Rapper albums and genres has been collected\n",
      "Data for Frank Ocean albums and genres has been collected\n",
      "Data for Tame Impala albums and genres has been collected\n",
      "Data for Tash Sultana albums and genres has been collected\n",
      "Data for John Mayer albums and genres has been collected\n",
      "Data for Bon Iver albums and genres has been collected\n",
      "Data for Future albums and genres has been collected\n",
      "Data for Drake albums and genres has been collected\n",
      "Data for The Beatles albums and genres has been collected\n",
      "Data for Snoh Aalegra albums and genres has been collected\n",
      "Could not find uri for Goldlink\n",
      "Failed to collect data for Goldlink albums and genres\n",
      "Data for Anderson .Paak albums and genres has been collected\n",
      "Data for Kendrick Lamar albums and genres has been collected\n",
      "Data for Mura Masa albums and genres has been collected\n",
      "Could not find uri for Alt-j\n",
      "Failed to collect data for Alt-j albums and genres\n"
     ]
    }
   ],
   "source": [
    "song_metadata, artist_genres = build_artist_song_dataset(artists)"
   ]
  },
  {
   "cell_type": "code",
   "execution_count": 152,
   "metadata": {},
   "outputs": [
    {
     "name": "stderr",
     "output_type": "stream",
     "text": [
      "  0%|          | 3/2529 [00:02<40:38,  1.04it/s]  \n"
     ]
    },
    {
     "ename": "KeyboardInterrupt",
     "evalue": "",
     "output_type": "error",
     "traceback": [
      "\u001b[0;31m---------------------------------------------------------------------------\u001b[0m",
      "\u001b[0;31mKeyboardInterrupt\u001b[0m                         Traceback (most recent call last)",
      "\u001b[0;32m<ipython-input-152-772daf869110>\u001b[0m in \u001b[0;36m<module>\u001b[0;34m\u001b[0m\n\u001b[0;32m----> 1\u001b[0;31m \u001b[0maudio_data\u001b[0m \u001b[0;34m=\u001b[0m \u001b[0maudio_features\u001b[0m\u001b[0;34m(\u001b[0m\u001b[0msong_metadata\u001b[0m\u001b[0;34m.\u001b[0m\u001b[0msong_uri\u001b[0m\u001b[0;34m.\u001b[0m\u001b[0mvalues\u001b[0m\u001b[0;34m)\u001b[0m\u001b[0;34m\u001b[0m\u001b[0m\n\u001b[0m",
      "\u001b[0;32m<ipython-input-77-c63a5aa20ba4>\u001b[0m in \u001b[0;36maudio_features\u001b[0;34m(uris)\u001b[0m\n\u001b[1;32m     14\u001b[0m     \u001b[0;32mfor\u001b[0m \u001b[0mtrack\u001b[0m \u001b[0;32min\u001b[0m \u001b[0mtqdm\u001b[0m\u001b[0;34m(\u001b[0m\u001b[0muris\u001b[0m\u001b[0;34m)\u001b[0m\u001b[0;34m:\u001b[0m\u001b[0;34m\u001b[0m\u001b[0m\n\u001b[1;32m     15\u001b[0m         \u001b[0;31m# Pull audio features per track\u001b[0m\u001b[0;34m\u001b[0m\u001b[0;34m\u001b[0m\u001b[0m\n\u001b[0;32m---> 16\u001b[0;31m         \u001b[0mfeatures\u001b[0m \u001b[0;34m=\u001b[0m \u001b[0msp\u001b[0m\u001b[0;34m.\u001b[0m\u001b[0maudio_features\u001b[0m\u001b[0;34m(\u001b[0m\u001b[0mtrack\u001b[0m\u001b[0;34m)\u001b[0m\u001b[0;34m\u001b[0m\u001b[0m\n\u001b[0m\u001b[1;32m     17\u001b[0m \u001b[0;34m\u001b[0m\u001b[0m\n\u001b[1;32m     18\u001b[0m         \u001b[0;31m# Append to relevant key-value\u001b[0m\u001b[0;34m\u001b[0m\u001b[0;34m\u001b[0m\u001b[0m\n",
      "\u001b[0;32m~/analyzing_music/env3/lib/python3.6/site-packages/spotipy/client.py\u001b[0m in \u001b[0;36maudio_features\u001b[0;34m(self, tracks)\u001b[0m\n\u001b[1;32m    933\u001b[0m         \u001b[0;32mif\u001b[0m \u001b[0misinstance\u001b[0m\u001b[0;34m(\u001b[0m\u001b[0mtracks\u001b[0m\u001b[0;34m,\u001b[0m \u001b[0mstr\u001b[0m\u001b[0;34m)\u001b[0m\u001b[0;34m:\u001b[0m\u001b[0;34m\u001b[0m\u001b[0m\n\u001b[1;32m    934\u001b[0m             \u001b[0mtrackid\u001b[0m \u001b[0;34m=\u001b[0m \u001b[0mself\u001b[0m\u001b[0;34m.\u001b[0m\u001b[0m_get_id\u001b[0m\u001b[0;34m(\u001b[0m\u001b[0;34m'track'\u001b[0m\u001b[0;34m,\u001b[0m \u001b[0mtracks\u001b[0m\u001b[0;34m)\u001b[0m\u001b[0;34m\u001b[0m\u001b[0m\n\u001b[0;32m--> 935\u001b[0;31m             \u001b[0mresults\u001b[0m \u001b[0;34m=\u001b[0m \u001b[0mself\u001b[0m\u001b[0;34m.\u001b[0m\u001b[0m_get\u001b[0m\u001b[0;34m(\u001b[0m\u001b[0;34m'audio-features/?ids='\u001b[0m \u001b[0;34m+\u001b[0m \u001b[0mtrackid\u001b[0m\u001b[0;34m)\u001b[0m\u001b[0;34m\u001b[0m\u001b[0m\n\u001b[0m\u001b[1;32m    936\u001b[0m         \u001b[0;32melse\u001b[0m\u001b[0;34m:\u001b[0m\u001b[0;34m\u001b[0m\u001b[0m\n\u001b[1;32m    937\u001b[0m             \u001b[0mtlist\u001b[0m \u001b[0;34m=\u001b[0m \u001b[0;34m[\u001b[0m\u001b[0mself\u001b[0m\u001b[0;34m.\u001b[0m\u001b[0m_get_id\u001b[0m\u001b[0;34m(\u001b[0m\u001b[0;34m'track'\u001b[0m\u001b[0;34m,\u001b[0m \u001b[0mt\u001b[0m\u001b[0;34m)\u001b[0m \u001b[0;32mfor\u001b[0m \u001b[0mt\u001b[0m \u001b[0;32min\u001b[0m \u001b[0mtracks\u001b[0m\u001b[0;34m]\u001b[0m\u001b[0;34m\u001b[0m\u001b[0m\n",
      "\u001b[0;32m~/analyzing_music/env3/lib/python3.6/site-packages/spotipy/client.py\u001b[0m in \u001b[0;36m_get\u001b[0;34m(self, url, args, payload, **kwargs)\u001b[0m\n\u001b[1;32m    160\u001b[0m         \u001b[0;32mwhile\u001b[0m \u001b[0mretries\u001b[0m \u001b[0;34m>\u001b[0m \u001b[0;36m0\u001b[0m\u001b[0;34m:\u001b[0m\u001b[0;34m\u001b[0m\u001b[0m\n\u001b[1;32m    161\u001b[0m             \u001b[0;32mtry\u001b[0m\u001b[0;34m:\u001b[0m\u001b[0;34m\u001b[0m\u001b[0m\n\u001b[0;32m--> 162\u001b[0;31m                 \u001b[0;32mreturn\u001b[0m \u001b[0mself\u001b[0m\u001b[0;34m.\u001b[0m\u001b[0m_internal_call\u001b[0m\u001b[0;34m(\u001b[0m\u001b[0;34m'GET'\u001b[0m\u001b[0;34m,\u001b[0m \u001b[0murl\u001b[0m\u001b[0;34m,\u001b[0m \u001b[0mpayload\u001b[0m\u001b[0;34m,\u001b[0m \u001b[0mkwargs\u001b[0m\u001b[0;34m)\u001b[0m\u001b[0;34m\u001b[0m\u001b[0m\n\u001b[0m\u001b[1;32m    163\u001b[0m             \u001b[0;32mexcept\u001b[0m \u001b[0mSpotifyException\u001b[0m \u001b[0;32mas\u001b[0m \u001b[0me\u001b[0m\u001b[0;34m:\u001b[0m\u001b[0;34m\u001b[0m\u001b[0m\n\u001b[1;32m    164\u001b[0m                 \u001b[0mretries\u001b[0m \u001b[0;34m-=\u001b[0m \u001b[0;36m1\u001b[0m\u001b[0;34m\u001b[0m\u001b[0m\n",
      "\u001b[0;32m~/analyzing_music/env3/lib/python3.6/site-packages/spotipy/client.py\u001b[0m in \u001b[0;36m_internal_call\u001b[0;34m(self, method, url, payload, params)\u001b[0m\n\u001b[1;32m    119\u001b[0m             \u001b[0mheaders\u001b[0m\u001b[0;34m=\u001b[0m\u001b[0mheaders\u001b[0m\u001b[0;34m,\u001b[0m\u001b[0;34m\u001b[0m\u001b[0m\n\u001b[1;32m    120\u001b[0m             \u001b[0mproxies\u001b[0m\u001b[0;34m=\u001b[0m\u001b[0mself\u001b[0m\u001b[0;34m.\u001b[0m\u001b[0mproxies\u001b[0m\u001b[0;34m,\u001b[0m\u001b[0;34m\u001b[0m\u001b[0m\n\u001b[0;32m--> 121\u001b[0;31m             **args)\n\u001b[0m\u001b[1;32m    122\u001b[0m \u001b[0;34m\u001b[0m\u001b[0m\n\u001b[1;32m    123\u001b[0m         \u001b[0;32mif\u001b[0m \u001b[0mself\u001b[0m\u001b[0;34m.\u001b[0m\u001b[0mtrace\u001b[0m\u001b[0;34m:\u001b[0m  \u001b[0;31m# pragma: no cover\u001b[0m\u001b[0;34m\u001b[0m\u001b[0m\n",
      "\u001b[0;32m~/analyzing_music/env3/lib/python3.6/site-packages/requests/sessions.py\u001b[0m in \u001b[0;36mrequest\u001b[0;34m(self, method, url, params, data, headers, cookies, files, auth, timeout, allow_redirects, proxies, hooks, stream, verify, cert, json)\u001b[0m\n\u001b[1;32m    531\u001b[0m         }\n\u001b[1;32m    532\u001b[0m         \u001b[0msend_kwargs\u001b[0m\u001b[0;34m.\u001b[0m\u001b[0mupdate\u001b[0m\u001b[0;34m(\u001b[0m\u001b[0msettings\u001b[0m\u001b[0;34m)\u001b[0m\u001b[0;34m\u001b[0m\u001b[0m\n\u001b[0;32m--> 533\u001b[0;31m         \u001b[0mresp\u001b[0m \u001b[0;34m=\u001b[0m \u001b[0mself\u001b[0m\u001b[0;34m.\u001b[0m\u001b[0msend\u001b[0m\u001b[0;34m(\u001b[0m\u001b[0mprep\u001b[0m\u001b[0;34m,\u001b[0m \u001b[0;34m**\u001b[0m\u001b[0msend_kwargs\u001b[0m\u001b[0;34m)\u001b[0m\u001b[0;34m\u001b[0m\u001b[0m\n\u001b[0m\u001b[1;32m    534\u001b[0m \u001b[0;34m\u001b[0m\u001b[0m\n\u001b[1;32m    535\u001b[0m         \u001b[0;32mreturn\u001b[0m \u001b[0mresp\u001b[0m\u001b[0;34m\u001b[0m\u001b[0m\n",
      "\u001b[0;32m~/analyzing_music/env3/lib/python3.6/site-packages/requests/sessions.py\u001b[0m in \u001b[0;36msend\u001b[0;34m(self, request, **kwargs)\u001b[0m\n\u001b[1;32m    644\u001b[0m \u001b[0;34m\u001b[0m\u001b[0m\n\u001b[1;32m    645\u001b[0m         \u001b[0;31m# Send the request\u001b[0m\u001b[0;34m\u001b[0m\u001b[0;34m\u001b[0m\u001b[0m\n\u001b[0;32m--> 646\u001b[0;31m         \u001b[0mr\u001b[0m \u001b[0;34m=\u001b[0m \u001b[0madapter\u001b[0m\u001b[0;34m.\u001b[0m\u001b[0msend\u001b[0m\u001b[0;34m(\u001b[0m\u001b[0mrequest\u001b[0m\u001b[0;34m,\u001b[0m \u001b[0;34m**\u001b[0m\u001b[0mkwargs\u001b[0m\u001b[0;34m)\u001b[0m\u001b[0;34m\u001b[0m\u001b[0m\n\u001b[0m\u001b[1;32m    647\u001b[0m \u001b[0;34m\u001b[0m\u001b[0m\n\u001b[1;32m    648\u001b[0m         \u001b[0;31m# Total elapsed time of the request (approximately)\u001b[0m\u001b[0;34m\u001b[0m\u001b[0;34m\u001b[0m\u001b[0m\n",
      "\u001b[0;32m~/analyzing_music/env3/lib/python3.6/site-packages/requests/adapters.py\u001b[0m in \u001b[0;36msend\u001b[0;34m(self, request, stream, timeout, verify, cert, proxies)\u001b[0m\n\u001b[1;32m    447\u001b[0m                     \u001b[0mdecode_content\u001b[0m\u001b[0;34m=\u001b[0m\u001b[0;32mFalse\u001b[0m\u001b[0;34m,\u001b[0m\u001b[0;34m\u001b[0m\u001b[0m\n\u001b[1;32m    448\u001b[0m                     \u001b[0mretries\u001b[0m\u001b[0;34m=\u001b[0m\u001b[0mself\u001b[0m\u001b[0;34m.\u001b[0m\u001b[0mmax_retries\u001b[0m\u001b[0;34m,\u001b[0m\u001b[0;34m\u001b[0m\u001b[0m\n\u001b[0;32m--> 449\u001b[0;31m                     \u001b[0mtimeout\u001b[0m\u001b[0;34m=\u001b[0m\u001b[0mtimeout\u001b[0m\u001b[0;34m\u001b[0m\u001b[0m\n\u001b[0m\u001b[1;32m    450\u001b[0m                 )\n\u001b[1;32m    451\u001b[0m \u001b[0;34m\u001b[0m\u001b[0m\n",
      "\u001b[0;32m~/analyzing_music/env3/lib/python3.6/site-packages/urllib3/connectionpool.py\u001b[0m in \u001b[0;36murlopen\u001b[0;34m(self, method, url, body, headers, retries, redirect, assert_same_host, timeout, pool_timeout, release_conn, chunked, body_pos, **response_kw)\u001b[0m\n\u001b[1;32m    670\u001b[0m                 \u001b[0mbody\u001b[0m\u001b[0;34m=\u001b[0m\u001b[0mbody\u001b[0m\u001b[0;34m,\u001b[0m\u001b[0;34m\u001b[0m\u001b[0m\n\u001b[1;32m    671\u001b[0m                 \u001b[0mheaders\u001b[0m\u001b[0;34m=\u001b[0m\u001b[0mheaders\u001b[0m\u001b[0;34m,\u001b[0m\u001b[0;34m\u001b[0m\u001b[0m\n\u001b[0;32m--> 672\u001b[0;31m                 \u001b[0mchunked\u001b[0m\u001b[0;34m=\u001b[0m\u001b[0mchunked\u001b[0m\u001b[0;34m,\u001b[0m\u001b[0;34m\u001b[0m\u001b[0m\n\u001b[0m\u001b[1;32m    673\u001b[0m             )\n\u001b[1;32m    674\u001b[0m \u001b[0;34m\u001b[0m\u001b[0m\n",
      "\u001b[0;32m~/analyzing_music/env3/lib/python3.6/site-packages/urllib3/connectionpool.py\u001b[0m in \u001b[0;36m_make_request\u001b[0;34m(self, conn, method, url, timeout, chunked, **httplib_request_kw)\u001b[0m\n\u001b[1;32m    419\u001b[0m                     \u001b[0;31m# Python 3 (including for exceptions like SystemExit).\u001b[0m\u001b[0;34m\u001b[0m\u001b[0;34m\u001b[0m\u001b[0m\n\u001b[1;32m    420\u001b[0m                     \u001b[0;31m# Otherwise it looks like a bug in the code.\u001b[0m\u001b[0;34m\u001b[0m\u001b[0;34m\u001b[0m\u001b[0m\n\u001b[0;32m--> 421\u001b[0;31m                     \u001b[0msix\u001b[0m\u001b[0;34m.\u001b[0m\u001b[0mraise_from\u001b[0m\u001b[0;34m(\u001b[0m\u001b[0me\u001b[0m\u001b[0;34m,\u001b[0m \u001b[0;32mNone\u001b[0m\u001b[0;34m)\u001b[0m\u001b[0;34m\u001b[0m\u001b[0m\n\u001b[0m\u001b[1;32m    422\u001b[0m         \u001b[0;32mexcept\u001b[0m \u001b[0;34m(\u001b[0m\u001b[0mSocketTimeout\u001b[0m\u001b[0;34m,\u001b[0m \u001b[0mBaseSSLError\u001b[0m\u001b[0;34m,\u001b[0m \u001b[0mSocketError\u001b[0m\u001b[0;34m)\u001b[0m \u001b[0;32mas\u001b[0m \u001b[0me\u001b[0m\u001b[0;34m:\u001b[0m\u001b[0;34m\u001b[0m\u001b[0m\n\u001b[1;32m    423\u001b[0m             \u001b[0mself\u001b[0m\u001b[0;34m.\u001b[0m\u001b[0m_raise_timeout\u001b[0m\u001b[0;34m(\u001b[0m\u001b[0merr\u001b[0m\u001b[0;34m=\u001b[0m\u001b[0me\u001b[0m\u001b[0;34m,\u001b[0m \u001b[0murl\u001b[0m\u001b[0;34m=\u001b[0m\u001b[0murl\u001b[0m\u001b[0;34m,\u001b[0m \u001b[0mtimeout_value\u001b[0m\u001b[0;34m=\u001b[0m\u001b[0mread_timeout\u001b[0m\u001b[0;34m)\u001b[0m\u001b[0;34m\u001b[0m\u001b[0m\n",
      "\u001b[0;32m~/analyzing_music/env3/lib/python3.6/site-packages/urllib3/packages/six.py\u001b[0m in \u001b[0;36mraise_from\u001b[0;34m(value, from_value)\u001b[0m\n",
      "\u001b[0;32m~/analyzing_music/env3/lib/python3.6/site-packages/urllib3/connectionpool.py\u001b[0m in \u001b[0;36m_make_request\u001b[0;34m(self, conn, method, url, timeout, chunked, **httplib_request_kw)\u001b[0m\n\u001b[1;32m    414\u001b[0m                 \u001b[0;31m# Python 3\u001b[0m\u001b[0;34m\u001b[0m\u001b[0;34m\u001b[0m\u001b[0m\n\u001b[1;32m    415\u001b[0m                 \u001b[0;32mtry\u001b[0m\u001b[0;34m:\u001b[0m\u001b[0;34m\u001b[0m\u001b[0m\n\u001b[0;32m--> 416\u001b[0;31m                     \u001b[0mhttplib_response\u001b[0m \u001b[0;34m=\u001b[0m \u001b[0mconn\u001b[0m\u001b[0;34m.\u001b[0m\u001b[0mgetresponse\u001b[0m\u001b[0;34m(\u001b[0m\u001b[0;34m)\u001b[0m\u001b[0;34m\u001b[0m\u001b[0m\n\u001b[0m\u001b[1;32m    417\u001b[0m                 \u001b[0;32mexcept\u001b[0m \u001b[0mBaseException\u001b[0m \u001b[0;32mas\u001b[0m \u001b[0me\u001b[0m\u001b[0;34m:\u001b[0m\u001b[0;34m\u001b[0m\u001b[0m\n\u001b[1;32m    418\u001b[0m                     \u001b[0;31m# Remove the TypeError from the exception chain in\u001b[0m\u001b[0;34m\u001b[0m\u001b[0;34m\u001b[0m\u001b[0m\n",
      "\u001b[0;32m/usr/local/Cellar/python3/3.6.4_2/Frameworks/Python.framework/Versions/3.6/lib/python3.6/http/client.py\u001b[0m in \u001b[0;36mgetresponse\u001b[0;34m(self)\u001b[0m\n\u001b[1;32m   1329\u001b[0m         \u001b[0;32mtry\u001b[0m\u001b[0;34m:\u001b[0m\u001b[0;34m\u001b[0m\u001b[0m\n\u001b[1;32m   1330\u001b[0m             \u001b[0;32mtry\u001b[0m\u001b[0;34m:\u001b[0m\u001b[0;34m\u001b[0m\u001b[0m\n\u001b[0;32m-> 1331\u001b[0;31m                 \u001b[0mresponse\u001b[0m\u001b[0;34m.\u001b[0m\u001b[0mbegin\u001b[0m\u001b[0;34m(\u001b[0m\u001b[0;34m)\u001b[0m\u001b[0;34m\u001b[0m\u001b[0m\n\u001b[0m\u001b[1;32m   1332\u001b[0m             \u001b[0;32mexcept\u001b[0m \u001b[0mConnectionError\u001b[0m\u001b[0;34m:\u001b[0m\u001b[0;34m\u001b[0m\u001b[0m\n\u001b[1;32m   1333\u001b[0m                 \u001b[0mself\u001b[0m\u001b[0;34m.\u001b[0m\u001b[0mclose\u001b[0m\u001b[0;34m(\u001b[0m\u001b[0;34m)\u001b[0m\u001b[0;34m\u001b[0m\u001b[0m\n",
      "\u001b[0;32m/usr/local/Cellar/python3/3.6.4_2/Frameworks/Python.framework/Versions/3.6/lib/python3.6/http/client.py\u001b[0m in \u001b[0;36mbegin\u001b[0;34m(self)\u001b[0m\n\u001b[1;32m    295\u001b[0m         \u001b[0;31m# read until we get a non-100 response\u001b[0m\u001b[0;34m\u001b[0m\u001b[0;34m\u001b[0m\u001b[0m\n\u001b[1;32m    296\u001b[0m         \u001b[0;32mwhile\u001b[0m \u001b[0;32mTrue\u001b[0m\u001b[0;34m:\u001b[0m\u001b[0;34m\u001b[0m\u001b[0m\n\u001b[0;32m--> 297\u001b[0;31m             \u001b[0mversion\u001b[0m\u001b[0;34m,\u001b[0m \u001b[0mstatus\u001b[0m\u001b[0;34m,\u001b[0m \u001b[0mreason\u001b[0m \u001b[0;34m=\u001b[0m \u001b[0mself\u001b[0m\u001b[0;34m.\u001b[0m\u001b[0m_read_status\u001b[0m\u001b[0;34m(\u001b[0m\u001b[0;34m)\u001b[0m\u001b[0;34m\u001b[0m\u001b[0m\n\u001b[0m\u001b[1;32m    298\u001b[0m             \u001b[0;32mif\u001b[0m \u001b[0mstatus\u001b[0m \u001b[0;34m!=\u001b[0m \u001b[0mCONTINUE\u001b[0m\u001b[0;34m:\u001b[0m\u001b[0;34m\u001b[0m\u001b[0m\n\u001b[1;32m    299\u001b[0m                 \u001b[0;32mbreak\u001b[0m\u001b[0;34m\u001b[0m\u001b[0m\n",
      "\u001b[0;32m/usr/local/Cellar/python3/3.6.4_2/Frameworks/Python.framework/Versions/3.6/lib/python3.6/http/client.py\u001b[0m in \u001b[0;36m_read_status\u001b[0;34m(self)\u001b[0m\n\u001b[1;32m    256\u001b[0m \u001b[0;34m\u001b[0m\u001b[0m\n\u001b[1;32m    257\u001b[0m     \u001b[0;32mdef\u001b[0m \u001b[0m_read_status\u001b[0m\u001b[0;34m(\u001b[0m\u001b[0mself\u001b[0m\u001b[0;34m)\u001b[0m\u001b[0;34m:\u001b[0m\u001b[0;34m\u001b[0m\u001b[0m\n\u001b[0;32m--> 258\u001b[0;31m         \u001b[0mline\u001b[0m \u001b[0;34m=\u001b[0m \u001b[0mstr\u001b[0m\u001b[0;34m(\u001b[0m\u001b[0mself\u001b[0m\u001b[0;34m.\u001b[0m\u001b[0mfp\u001b[0m\u001b[0;34m.\u001b[0m\u001b[0mreadline\u001b[0m\u001b[0;34m(\u001b[0m\u001b[0m_MAXLINE\u001b[0m \u001b[0;34m+\u001b[0m \u001b[0;36m1\u001b[0m\u001b[0;34m)\u001b[0m\u001b[0;34m,\u001b[0m \u001b[0;34m\"iso-8859-1\"\u001b[0m\u001b[0;34m)\u001b[0m\u001b[0;34m\u001b[0m\u001b[0m\n\u001b[0m\u001b[1;32m    259\u001b[0m         \u001b[0;32mif\u001b[0m \u001b[0mlen\u001b[0m\u001b[0;34m(\u001b[0m\u001b[0mline\u001b[0m\u001b[0;34m)\u001b[0m \u001b[0;34m>\u001b[0m \u001b[0m_MAXLINE\u001b[0m\u001b[0;34m:\u001b[0m\u001b[0;34m\u001b[0m\u001b[0m\n\u001b[1;32m    260\u001b[0m             \u001b[0;32mraise\u001b[0m \u001b[0mLineTooLong\u001b[0m\u001b[0;34m(\u001b[0m\u001b[0;34m\"status line\"\u001b[0m\u001b[0;34m)\u001b[0m\u001b[0;34m\u001b[0m\u001b[0m\n",
      "\u001b[0;32m/usr/local/Cellar/python3/3.6.4_2/Frameworks/Python.framework/Versions/3.6/lib/python3.6/socket.py\u001b[0m in \u001b[0;36mreadinto\u001b[0;34m(self, b)\u001b[0m\n\u001b[1;32m    584\u001b[0m         \u001b[0;32mwhile\u001b[0m \u001b[0;32mTrue\u001b[0m\u001b[0;34m:\u001b[0m\u001b[0;34m\u001b[0m\u001b[0m\n\u001b[1;32m    585\u001b[0m             \u001b[0;32mtry\u001b[0m\u001b[0;34m:\u001b[0m\u001b[0;34m\u001b[0m\u001b[0m\n\u001b[0;32m--> 586\u001b[0;31m                 \u001b[0;32mreturn\u001b[0m \u001b[0mself\u001b[0m\u001b[0;34m.\u001b[0m\u001b[0m_sock\u001b[0m\u001b[0;34m.\u001b[0m\u001b[0mrecv_into\u001b[0m\u001b[0;34m(\u001b[0m\u001b[0mb\u001b[0m\u001b[0;34m)\u001b[0m\u001b[0;34m\u001b[0m\u001b[0m\n\u001b[0m\u001b[1;32m    587\u001b[0m             \u001b[0;32mexcept\u001b[0m \u001b[0mtimeout\u001b[0m\u001b[0;34m:\u001b[0m\u001b[0;34m\u001b[0m\u001b[0m\n\u001b[1;32m    588\u001b[0m                 \u001b[0mself\u001b[0m\u001b[0;34m.\u001b[0m\u001b[0m_timeout_occurred\u001b[0m \u001b[0;34m=\u001b[0m \u001b[0;32mTrue\u001b[0m\u001b[0;34m\u001b[0m\u001b[0m\n",
      "\u001b[0;32m/usr/local/Cellar/python3/3.6.4_2/Frameworks/Python.framework/Versions/3.6/lib/python3.6/ssl.py\u001b[0m in \u001b[0;36mrecv_into\u001b[0;34m(self, buffer, nbytes, flags)\u001b[0m\n\u001b[1;32m   1007\u001b[0m                   \u001b[0;34m\"non-zero flags not allowed in calls to recv_into() on %s\"\u001b[0m \u001b[0;34m%\u001b[0m\u001b[0;34m\u001b[0m\u001b[0m\n\u001b[1;32m   1008\u001b[0m                   self.__class__)\n\u001b[0;32m-> 1009\u001b[0;31m             \u001b[0;32mreturn\u001b[0m \u001b[0mself\u001b[0m\u001b[0;34m.\u001b[0m\u001b[0mread\u001b[0m\u001b[0;34m(\u001b[0m\u001b[0mnbytes\u001b[0m\u001b[0;34m,\u001b[0m \u001b[0mbuffer\u001b[0m\u001b[0;34m)\u001b[0m\u001b[0;34m\u001b[0m\u001b[0m\n\u001b[0m\u001b[1;32m   1010\u001b[0m         \u001b[0;32melse\u001b[0m\u001b[0;34m:\u001b[0m\u001b[0;34m\u001b[0m\u001b[0m\n\u001b[1;32m   1011\u001b[0m             \u001b[0;32mreturn\u001b[0m \u001b[0msocket\u001b[0m\u001b[0;34m.\u001b[0m\u001b[0mrecv_into\u001b[0m\u001b[0;34m(\u001b[0m\u001b[0mself\u001b[0m\u001b[0;34m,\u001b[0m \u001b[0mbuffer\u001b[0m\u001b[0;34m,\u001b[0m \u001b[0mnbytes\u001b[0m\u001b[0;34m,\u001b[0m \u001b[0mflags\u001b[0m\u001b[0;34m)\u001b[0m\u001b[0;34m\u001b[0m\u001b[0m\n",
      "\u001b[0;32m/usr/local/Cellar/python3/3.6.4_2/Frameworks/Python.framework/Versions/3.6/lib/python3.6/ssl.py\u001b[0m in \u001b[0;36mread\u001b[0;34m(self, len, buffer)\u001b[0m\n\u001b[1;32m    869\u001b[0m             \u001b[0;32mraise\u001b[0m \u001b[0mValueError\u001b[0m\u001b[0;34m(\u001b[0m\u001b[0;34m\"Read on closed or unwrapped SSL socket.\"\u001b[0m\u001b[0;34m)\u001b[0m\u001b[0;34m\u001b[0m\u001b[0m\n\u001b[1;32m    870\u001b[0m         \u001b[0;32mtry\u001b[0m\u001b[0;34m:\u001b[0m\u001b[0;34m\u001b[0m\u001b[0m\n\u001b[0;32m--> 871\u001b[0;31m             \u001b[0;32mreturn\u001b[0m \u001b[0mself\u001b[0m\u001b[0;34m.\u001b[0m\u001b[0m_sslobj\u001b[0m\u001b[0;34m.\u001b[0m\u001b[0mread\u001b[0m\u001b[0;34m(\u001b[0m\u001b[0mlen\u001b[0m\u001b[0;34m,\u001b[0m \u001b[0mbuffer\u001b[0m\u001b[0;34m)\u001b[0m\u001b[0;34m\u001b[0m\u001b[0m\n\u001b[0m\u001b[1;32m    872\u001b[0m         \u001b[0;32mexcept\u001b[0m \u001b[0mSSLError\u001b[0m \u001b[0;32mas\u001b[0m \u001b[0mx\u001b[0m\u001b[0;34m:\u001b[0m\u001b[0;34m\u001b[0m\u001b[0m\n\u001b[1;32m    873\u001b[0m             \u001b[0;32mif\u001b[0m \u001b[0mx\u001b[0m\u001b[0;34m.\u001b[0m\u001b[0margs\u001b[0m\u001b[0;34m[\u001b[0m\u001b[0;36m0\u001b[0m\u001b[0;34m]\u001b[0m \u001b[0;34m==\u001b[0m \u001b[0mSSL_ERROR_EOF\u001b[0m \u001b[0;32mand\u001b[0m \u001b[0mself\u001b[0m\u001b[0;34m.\u001b[0m\u001b[0msuppress_ragged_eofs\u001b[0m\u001b[0;34m:\u001b[0m\u001b[0;34m\u001b[0m\u001b[0m\n",
      "\u001b[0;32m/usr/local/Cellar/python3/3.6.4_2/Frameworks/Python.framework/Versions/3.6/lib/python3.6/ssl.py\u001b[0m in \u001b[0;36mread\u001b[0;34m(self, len, buffer)\u001b[0m\n\u001b[1;32m    629\u001b[0m         \"\"\"\n\u001b[1;32m    630\u001b[0m         \u001b[0;32mif\u001b[0m \u001b[0mbuffer\u001b[0m \u001b[0;32mis\u001b[0m \u001b[0;32mnot\u001b[0m \u001b[0;32mNone\u001b[0m\u001b[0;34m:\u001b[0m\u001b[0;34m\u001b[0m\u001b[0m\n\u001b[0;32m--> 631\u001b[0;31m             \u001b[0mv\u001b[0m \u001b[0;34m=\u001b[0m \u001b[0mself\u001b[0m\u001b[0;34m.\u001b[0m\u001b[0m_sslobj\u001b[0m\u001b[0;34m.\u001b[0m\u001b[0mread\u001b[0m\u001b[0;34m(\u001b[0m\u001b[0mlen\u001b[0m\u001b[0;34m,\u001b[0m \u001b[0mbuffer\u001b[0m\u001b[0;34m)\u001b[0m\u001b[0;34m\u001b[0m\u001b[0m\n\u001b[0m\u001b[1;32m    632\u001b[0m         \u001b[0;32melse\u001b[0m\u001b[0;34m:\u001b[0m\u001b[0;34m\u001b[0m\u001b[0m\n\u001b[1;32m    633\u001b[0m             \u001b[0mv\u001b[0m \u001b[0;34m=\u001b[0m \u001b[0mself\u001b[0m\u001b[0;34m.\u001b[0m\u001b[0m_sslobj\u001b[0m\u001b[0;34m.\u001b[0m\u001b[0mread\u001b[0m\u001b[0;34m(\u001b[0m\u001b[0mlen\u001b[0m\u001b[0;34m)\u001b[0m\u001b[0;34m\u001b[0m\u001b[0m\n",
      "\u001b[0;31mKeyboardInterrupt\u001b[0m: "
     ]
    }
   ],
   "source": [
    "audio_data = audio_features(song_metadata.song_uri.values)"
   ]
  },
  {
   "cell_type": "code",
   "execution_count": 79,
   "metadata": {},
   "outputs": [],
   "source": [
    "audio_data.to_csv(\"audio_feature_data.csv\", index=False)"
   ]
  },
  {
   "cell_type": "code",
   "execution_count": 80,
   "metadata": {},
   "outputs": [],
   "source": [
    "song_metadata.to_csv(\"spotify_song_metadata.csv\", index=False)"
   ]
  },
  {
   "cell_type": "code",
   "execution_count": 81,
   "metadata": {},
   "outputs": [],
   "source": [
    "artist_genres.to_csv(\"spotify_artist_genres.csv\", index=False)"
   ]
  },
  {
   "cell_type": "markdown",
   "metadata": {},
   "source": [
    "### Exploration"
   ]
  },
  {
   "cell_type": "code",
   "execution_count": 21,
   "metadata": {},
   "outputs": [
    {
     "name": "stdout",
     "output_type": "stream",
     "text": [
      "Data for alt-J albums and genres has been collected\n"
     ]
    }
   ],
   "source": [
    "song_metadata, artist_genres = build_artist_song_dataset(['alt-J'])"
   ]
  },
  {
   "cell_type": "code",
   "execution_count": 22,
   "metadata": {},
   "outputs": [
    {
     "name": "stderr",
     "output_type": "stream",
     "text": [
      "100%|██████████| 271/271 [01:20<00:00,  3.36it/s]\n"
     ]
    }
   ],
   "source": [
    "audio_data = audio_features(song_metadata.song_uri.values)"
   ]
  },
  {
   "cell_type": "code",
   "execution_count": 23,
   "metadata": {},
   "outputs": [],
   "source": [
    "audio_data.to_csv(\"alt_j_audiodata.csv\",index=False)"
   ]
  },
  {
   "cell_type": "code",
   "execution_count": 24,
   "metadata": {},
   "outputs": [],
   "source": [
    "song_metadata.to_csv(\"spotify_song_metadata_altj.csv\", index=False)"
   ]
  },
  {
   "cell_type": "code",
   "execution_count": 25,
   "metadata": {},
   "outputs": [],
   "source": [
    "artist_genres.to_csv(\"spotify_artist_genres_altj.csv\", index=False)"
   ]
  },
  {
   "cell_type": "code",
   "execution_count": null,
   "metadata": {},
   "outputs": [],
   "source": []
  },
  {
   "cell_type": "code",
   "execution_count": 190,
   "metadata": {},
   "outputs": [],
   "source": [
    "audio_data = pd.read_csv(\"audio_feature_data.csv\")"
   ]
  },
  {
   "cell_type": "code",
   "execution_count": 191,
   "metadata": {},
   "outputs": [
    {
     "data": {
      "text/html": [
       "<div>\n",
       "<style scoped>\n",
       "    .dataframe tbody tr th:only-of-type {\n",
       "        vertical-align: middle;\n",
       "    }\n",
       "\n",
       "    .dataframe tbody tr th {\n",
       "        vertical-align: top;\n",
       "    }\n",
       "\n",
       "    .dataframe thead th {\n",
       "        text-align: right;\n",
       "    }\n",
       "</style>\n",
       "<table border=\"1\" class=\"dataframe\">\n",
       "  <thead>\n",
       "    <tr style=\"text-align: right;\">\n",
       "      <th></th>\n",
       "      <th>uri</th>\n",
       "      <th>danceability</th>\n",
       "      <th>energy</th>\n",
       "      <th>accousticness</th>\n",
       "      <th>instrumentalness</th>\n",
       "      <th>liveness</th>\n",
       "      <th>loudness</th>\n",
       "      <th>speechiness</th>\n",
       "      <th>tempo</th>\n",
       "      <th>valence</th>\n",
       "      <th>popularity</th>\n",
       "    </tr>\n",
       "  </thead>\n",
       "  <tbody>\n",
       "    <tr>\n",
       "      <th>0</th>\n",
       "      <td>spotify:track:1WnqWQcWcuQbVzgE7ecfCY</td>\n",
       "      <td>0.588</td>\n",
       "      <td>0.793</td>\n",
       "      <td>0.466000</td>\n",
       "      <td>0.000647</td>\n",
       "      <td>0.9130</td>\n",
       "      <td>-6.230</td>\n",
       "      <td>0.0794</td>\n",
       "      <td>76.997</td>\n",
       "      <td>0.694</td>\n",
       "      <td>72</td>\n",
       "    </tr>\n",
       "    <tr>\n",
       "      <th>1</th>\n",
       "      <td>spotify:track:39JRmdKFka1Oe09FoOCPI4</td>\n",
       "      <td>0.482</td>\n",
       "      <td>0.618</td>\n",
       "      <td>0.647000</td>\n",
       "      <td>0.000859</td>\n",
       "      <td>0.3200</td>\n",
       "      <td>-5.673</td>\n",
       "      <td>0.1970</td>\n",
       "      <td>90.076</td>\n",
       "      <td>0.146</td>\n",
       "      <td>76</td>\n",
       "    </tr>\n",
       "    <tr>\n",
       "      <th>2</th>\n",
       "      <td>spotify:track:2QpGZOhTCHHiKmpSO9FW4h</td>\n",
       "      <td>0.529</td>\n",
       "      <td>0.900</td>\n",
       "      <td>0.000248</td>\n",
       "      <td>0.000012</td>\n",
       "      <td>0.0426</td>\n",
       "      <td>-3.503</td>\n",
       "      <td>0.4180</td>\n",
       "      <td>180.291</td>\n",
       "      <td>0.434</td>\n",
       "      <td>85</td>\n",
       "    </tr>\n",
       "    <tr>\n",
       "      <th>3</th>\n",
       "      <td>spotify:track:3JWiDGQX2eTlFvKj3Yssj3</td>\n",
       "      <td>0.799</td>\n",
       "      <td>0.291</td>\n",
       "      <td>0.873000</td>\n",
       "      <td>0.000641</td>\n",
       "      <td>0.1390</td>\n",
       "      <td>-7.353</td>\n",
       "      <td>0.0318</td>\n",
       "      <td>97.984</td>\n",
       "      <td>0.406</td>\n",
       "      <td>77</td>\n",
       "    </tr>\n",
       "    <tr>\n",
       "      <th>4</th>\n",
       "      <td>spotify:track:2SasoXZyv82yYgHiVOvxQn</td>\n",
       "      <td>0.410</td>\n",
       "      <td>0.886</td>\n",
       "      <td>0.067100</td>\n",
       "      <td>0.000000</td>\n",
       "      <td>0.4610</td>\n",
       "      <td>-4.413</td>\n",
       "      <td>0.1550</td>\n",
       "      <td>72.577</td>\n",
       "      <td>0.393</td>\n",
       "      <td>76</td>\n",
       "    </tr>\n",
       "    <tr>\n",
       "      <th>...</th>\n",
       "      <td>...</td>\n",
       "      <td>...</td>\n",
       "      <td>...</td>\n",
       "      <td>...</td>\n",
       "      <td>...</td>\n",
       "      <td>...</td>\n",
       "      <td>...</td>\n",
       "      <td>...</td>\n",
       "      <td>...</td>\n",
       "      <td>...</td>\n",
       "      <td>...</td>\n",
       "    </tr>\n",
       "    <tr>\n",
       "      <th>2524</th>\n",
       "      <td>spotify:track:7dQ847NQosTZ9gztaaBtn7</td>\n",
       "      <td>0.785</td>\n",
       "      <td>0.947</td>\n",
       "      <td>0.000610</td>\n",
       "      <td>0.922000</td>\n",
       "      <td>0.0499</td>\n",
       "      <td>-7.708</td>\n",
       "      <td>0.0731</td>\n",
       "      <td>140.021</td>\n",
       "      <td>0.580</td>\n",
       "      <td>34</td>\n",
       "    </tr>\n",
       "    <tr>\n",
       "      <th>2525</th>\n",
       "      <td>spotify:track:0XCZSl12v5sqeeyPixMbnv</td>\n",
       "      <td>0.820</td>\n",
       "      <td>0.829</td>\n",
       "      <td>0.280000</td>\n",
       "      <td>0.552000</td>\n",
       "      <td>0.1030</td>\n",
       "      <td>-8.322</td>\n",
       "      <td>0.0651</td>\n",
       "      <td>140.029</td>\n",
       "      <td>0.334</td>\n",
       "      <td>33</td>\n",
       "    </tr>\n",
       "    <tr>\n",
       "      <th>2526</th>\n",
       "      <td>spotify:track:3LlN0koSj1GH4W6sER5OCa</td>\n",
       "      <td>0.763</td>\n",
       "      <td>0.522</td>\n",
       "      <td>0.599000</td>\n",
       "      <td>0.002760</td>\n",
       "      <td>0.1100</td>\n",
       "      <td>-8.790</td>\n",
       "      <td>0.1840</td>\n",
       "      <td>135.084</td>\n",
       "      <td>0.322</td>\n",
       "      <td>34</td>\n",
       "    </tr>\n",
       "    <tr>\n",
       "      <th>2527</th>\n",
       "      <td>spotify:track:75g6AGXwNMoB1QVN1gUZnx</td>\n",
       "      <td>0.745</td>\n",
       "      <td>0.407</td>\n",
       "      <td>0.822000</td>\n",
       "      <td>0.544000</td>\n",
       "      <td>0.1700</td>\n",
       "      <td>-14.071</td>\n",
       "      <td>0.0448</td>\n",
       "      <td>109.248</td>\n",
       "      <td>0.149</td>\n",
       "      <td>35</td>\n",
       "    </tr>\n",
       "    <tr>\n",
       "      <th>2528</th>\n",
       "      <td>spotify:track:4mXDPnhn0oEq3XrCHJ2pkP</td>\n",
       "      <td>0.641</td>\n",
       "      <td>0.303</td>\n",
       "      <td>0.672000</td>\n",
       "      <td>0.001020</td>\n",
       "      <td>0.1240</td>\n",
       "      <td>-12.803</td>\n",
       "      <td>0.0639</td>\n",
       "      <td>81.984</td>\n",
       "      <td>0.140</td>\n",
       "      <td>46</td>\n",
       "    </tr>\n",
       "  </tbody>\n",
       "</table>\n",
       "<p>2529 rows × 11 columns</p>\n",
       "</div>"
      ],
      "text/plain": [
       "                                       uri  danceability  energy  \\\n",
       "0     spotify:track:1WnqWQcWcuQbVzgE7ecfCY         0.588   0.793   \n",
       "1     spotify:track:39JRmdKFka1Oe09FoOCPI4         0.482   0.618   \n",
       "2     spotify:track:2QpGZOhTCHHiKmpSO9FW4h         0.529   0.900   \n",
       "3     spotify:track:3JWiDGQX2eTlFvKj3Yssj3         0.799   0.291   \n",
       "4     spotify:track:2SasoXZyv82yYgHiVOvxQn         0.410   0.886   \n",
       "...                                    ...           ...     ...   \n",
       "2524  spotify:track:7dQ847NQosTZ9gztaaBtn7         0.785   0.947   \n",
       "2525  spotify:track:0XCZSl12v5sqeeyPixMbnv         0.820   0.829   \n",
       "2526  spotify:track:3LlN0koSj1GH4W6sER5OCa         0.763   0.522   \n",
       "2527  spotify:track:75g6AGXwNMoB1QVN1gUZnx         0.745   0.407   \n",
       "2528  spotify:track:4mXDPnhn0oEq3XrCHJ2pkP         0.641   0.303   \n",
       "\n",
       "      accousticness  instrumentalness  liveness  loudness  speechiness  \\\n",
       "0          0.466000          0.000647    0.9130    -6.230       0.0794   \n",
       "1          0.647000          0.000859    0.3200    -5.673       0.1970   \n",
       "2          0.000248          0.000012    0.0426    -3.503       0.4180   \n",
       "3          0.873000          0.000641    0.1390    -7.353       0.0318   \n",
       "4          0.067100          0.000000    0.4610    -4.413       0.1550   \n",
       "...             ...               ...       ...       ...          ...   \n",
       "2524       0.000610          0.922000    0.0499    -7.708       0.0731   \n",
       "2525       0.280000          0.552000    0.1030    -8.322       0.0651   \n",
       "2526       0.599000          0.002760    0.1100    -8.790       0.1840   \n",
       "2527       0.822000          0.544000    0.1700   -14.071       0.0448   \n",
       "2528       0.672000          0.001020    0.1240   -12.803       0.0639   \n",
       "\n",
       "        tempo  valence  popularity  \n",
       "0      76.997    0.694          72  \n",
       "1      90.076    0.146          76  \n",
       "2     180.291    0.434          85  \n",
       "3      97.984    0.406          77  \n",
       "4      72.577    0.393          76  \n",
       "...       ...      ...         ...  \n",
       "2524  140.021    0.580          34  \n",
       "2525  140.029    0.334          33  \n",
       "2526  135.084    0.322          34  \n",
       "2527  109.248    0.149          35  \n",
       "2528   81.984    0.140          46  \n",
       "\n",
       "[2529 rows x 11 columns]"
      ]
     },
     "execution_count": 191,
     "metadata": {},
     "output_type": "execute_result"
    }
   ],
   "source": [
    "audio_data"
   ]
  },
  {
   "cell_type": "code",
   "execution_count": 192,
   "metadata": {},
   "outputs": [],
   "source": [
    "from sklearn.cluster import KMeans"
   ]
  },
  {
   "cell_type": "code",
   "execution_count": 193,
   "metadata": {},
   "outputs": [],
   "source": [
    "import random"
   ]
  },
  {
   "cell_type": "code",
   "execution_count": 194,
   "metadata": {},
   "outputs": [],
   "source": [
    "from sklearn.model_selection import train_test_split"
   ]
  },
  {
   "cell_type": "code",
   "execution_count": 195,
   "metadata": {},
   "outputs": [],
   "source": [
    "train_tracks, test_tracks = train_test_split(audio_data.uri)"
   ]
  },
  {
   "cell_type": "code",
   "execution_count": 196,
   "metadata": {},
   "outputs": [],
   "source": [
    "audio_data = audio_data.assign(is_train = lambda x: x.uri.isin(train_tracks))"
   ]
  },
  {
   "cell_type": "code",
   "execution_count": 197,
   "metadata": {},
   "outputs": [],
   "source": [
    "km = KMeans(n_clusters=14)"
   ]
  },
  {
   "cell_type": "code",
   "execution_count": 198,
   "metadata": {},
   "outputs": [],
   "source": [
    "features = ['danceability', 'energy', 'accousticness', 'instrumentalness',\n",
    "            'liveness', 'loudness', 'speechiness', 'tempo', 'valence']"
   ]
  },
  {
   "cell_type": "code",
   "execution_count": 199,
   "metadata": {},
   "outputs": [],
   "source": [
    "train_data = audio_data[audio_data.is_train]\n",
    "test_data = audio_data[audio_data.is_train==False]"
   ]
  },
  {
   "cell_type": "code",
   "execution_count": 200,
   "metadata": {},
   "outputs": [
    {
     "data": {
      "text/plain": [
       "KMeans(algorithm='auto', copy_x=True, init='k-means++', max_iter=300,\n",
       "       n_clusters=14, n_init=10, n_jobs=None, precompute_distances='auto',\n",
       "       random_state=None, tol=0.0001, verbose=0)"
      ]
     },
     "execution_count": 200,
     "metadata": {},
     "output_type": "execute_result"
    }
   ],
   "source": [
    "km.fit(train_data[features])"
   ]
  },
  {
   "cell_type": "code",
   "execution_count": 201,
   "metadata": {},
   "outputs": [],
   "source": [
    "predictions = km.predict(test_data[features])"
   ]
  },
  {
   "cell_type": "code",
   "execution_count": 202,
   "metadata": {},
   "outputs": [],
   "source": [
    "audio_data['cluster'] = km.predict(audio_data[features])"
   ]
  },
  {
   "cell_type": "code",
   "execution_count": 203,
   "metadata": {},
   "outputs": [
    {
     "data": {
      "text/plain": [
       "Index(['album', 'track_number', 'id', 'song_name', 'song_uri', 'artist_name'], dtype='object')"
      ]
     },
     "execution_count": 203,
     "metadata": {},
     "output_type": "execute_result"
    }
   ],
   "source": [
    "song_metadata.columns"
   ]
  },
  {
   "cell_type": "code",
   "execution_count": 204,
   "metadata": {},
   "outputs": [
    {
     "data": {
      "text/plain": [
       "Index(['uri', 'danceability', 'energy', 'accousticness', 'instrumentalness',\n",
       "       'liveness', 'loudness', 'speechiness', 'tempo', 'valence', 'popularity',\n",
       "       'is_train', 'cluster'],\n",
       "      dtype='object')"
      ]
     },
     "execution_count": 204,
     "metadata": {},
     "output_type": "execute_result"
    }
   ],
   "source": [
    "audio_data.columns"
   ]
  },
  {
   "cell_type": "code",
   "execution_count": 205,
   "metadata": {},
   "outputs": [],
   "source": [
    "audio_data = audio_data.merge(song_metadata, left_on='uri', right_on='song_uri')"
   ]
  },
  {
   "cell_type": "code",
   "execution_count": 206,
   "metadata": {},
   "outputs": [
    {
     "data": {
      "text/plain": [
       "101"
      ]
     },
     "execution_count": 206,
     "metadata": {},
     "output_type": "execute_result"
    }
   ],
   "source": [
    "len(audio_data.album.unique())"
   ]
  },
  {
   "cell_type": "code",
   "execution_count": 208,
   "metadata": {},
   "outputs": [
    {
     "data": {
      "text/html": [
       "<div>\n",
       "<style scoped>\n",
       "    .dataframe tbody tr th:only-of-type {\n",
       "        vertical-align: middle;\n",
       "    }\n",
       "\n",
       "    .dataframe tbody tr th {\n",
       "        vertical-align: top;\n",
       "    }\n",
       "\n",
       "    .dataframe thead th {\n",
       "        text-align: right;\n",
       "    }\n",
       "</style>\n",
       "<table border=\"1\" class=\"dataframe\">\n",
       "  <thead>\n",
       "    <tr style=\"text-align: right;\">\n",
       "      <th></th>\n",
       "      <th>artist_name</th>\n",
       "    </tr>\n",
       "    <tr>\n",
       "      <th>cluster</th>\n",
       "      <th></th>\n",
       "    </tr>\n",
       "  </thead>\n",
       "  <tbody>\n",
       "    <tr>\n",
       "      <th>0</th>\n",
       "      <td>14</td>\n",
       "    </tr>\n",
       "    <tr>\n",
       "      <th>1</th>\n",
       "      <td>14</td>\n",
       "    </tr>\n",
       "    <tr>\n",
       "      <th>2</th>\n",
       "      <td>14</td>\n",
       "    </tr>\n",
       "    <tr>\n",
       "      <th>3</th>\n",
       "      <td>12</td>\n",
       "    </tr>\n",
       "    <tr>\n",
       "      <th>4</th>\n",
       "      <td>14</td>\n",
       "    </tr>\n",
       "    <tr>\n",
       "      <th>5</th>\n",
       "      <td>2</td>\n",
       "    </tr>\n",
       "    <tr>\n",
       "      <th>6</th>\n",
       "      <td>14</td>\n",
       "    </tr>\n",
       "    <tr>\n",
       "      <th>7</th>\n",
       "      <td>13</td>\n",
       "    </tr>\n",
       "    <tr>\n",
       "      <th>8</th>\n",
       "      <td>13</td>\n",
       "    </tr>\n",
       "    <tr>\n",
       "      <th>9</th>\n",
       "      <td>13</td>\n",
       "    </tr>\n",
       "    <tr>\n",
       "      <th>10</th>\n",
       "      <td>11</td>\n",
       "    </tr>\n",
       "    <tr>\n",
       "      <th>11</th>\n",
       "      <td>12</td>\n",
       "    </tr>\n",
       "    <tr>\n",
       "      <th>12</th>\n",
       "      <td>10</td>\n",
       "    </tr>\n",
       "    <tr>\n",
       "      <th>13</th>\n",
       "      <td>13</td>\n",
       "    </tr>\n",
       "  </tbody>\n",
       "</table>\n",
       "</div>"
      ],
      "text/plain": [
       "         artist_name\n",
       "cluster             \n",
       "0                 14\n",
       "1                 14\n",
       "2                 14\n",
       "3                 12\n",
       "4                 14\n",
       "5                  2\n",
       "6                 14\n",
       "7                 13\n",
       "8                 13\n",
       "9                 13\n",
       "10                11\n",
       "11                12\n",
       "12                10\n",
       "13                13"
      ]
     },
     "execution_count": 208,
     "metadata": {},
     "output_type": "execute_result"
    }
   ],
   "source": [
    "audio_data.groupby('cluster').nunique()[['artist_name']]"
   ]
  },
  {
   "cell_type": "code",
   "execution_count": 210,
   "metadata": {},
   "outputs": [],
   "source": [
    "from sklearn.mixture import GaussianMixture"
   ]
  },
  {
   "cell_type": "code",
   "execution_count": 215,
   "metadata": {},
   "outputs": [],
   "source": [
    "gm = GaussianMixture(n_components=14)"
   ]
  },
  {
   "cell_type": "code",
   "execution_count": 217,
   "metadata": {},
   "outputs": [
    {
     "data": {
      "text/plain": [
       "GaussianMixture(covariance_type='full', init_params='kmeans', max_iter=100,\n",
       "                means_init=None, n_components=14, n_init=1,\n",
       "                precisions_init=None, random_state=None, reg_covar=1e-06,\n",
       "                tol=0.001, verbose=0, verbose_interval=10, warm_start=False,\n",
       "                weights_init=None)"
      ]
     },
     "execution_count": 217,
     "metadata": {},
     "output_type": "execute_result"
    }
   ],
   "source": [
    "gm.fit(audio_data[features])"
   ]
  },
  {
   "cell_type": "code",
   "execution_count": 218,
   "metadata": {},
   "outputs": [],
   "source": [
    "audio_data['cluster'] = gm.predict(audio_data[features])"
   ]
  },
  {
   "cell_type": "code",
   "execution_count": 219,
   "metadata": {},
   "outputs": [
    {
     "data": {
      "text/html": [
       "<div>\n",
       "<style scoped>\n",
       "    .dataframe tbody tr th:only-of-type {\n",
       "        vertical-align: middle;\n",
       "    }\n",
       "\n",
       "    .dataframe tbody tr th {\n",
       "        vertical-align: top;\n",
       "    }\n",
       "\n",
       "    .dataframe thead th {\n",
       "        text-align: right;\n",
       "    }\n",
       "</style>\n",
       "<table border=\"1\" class=\"dataframe\">\n",
       "  <thead>\n",
       "    <tr style=\"text-align: right;\">\n",
       "      <th></th>\n",
       "      <th>artist_name</th>\n",
       "    </tr>\n",
       "    <tr>\n",
       "      <th>cluster</th>\n",
       "      <th></th>\n",
       "    </tr>\n",
       "  </thead>\n",
       "  <tbody>\n",
       "    <tr>\n",
       "      <th>0</th>\n",
       "      <td>10</td>\n",
       "    </tr>\n",
       "    <tr>\n",
       "      <th>1</th>\n",
       "      <td>13</td>\n",
       "    </tr>\n",
       "    <tr>\n",
       "      <th>2</th>\n",
       "      <td>12</td>\n",
       "    </tr>\n",
       "    <tr>\n",
       "      <th>3</th>\n",
       "      <td>5</td>\n",
       "    </tr>\n",
       "    <tr>\n",
       "      <th>4</th>\n",
       "      <td>10</td>\n",
       "    </tr>\n",
       "    <tr>\n",
       "      <th>5</th>\n",
       "      <td>14</td>\n",
       "    </tr>\n",
       "    <tr>\n",
       "      <th>6</th>\n",
       "      <td>13</td>\n",
       "    </tr>\n",
       "    <tr>\n",
       "      <th>7</th>\n",
       "      <td>13</td>\n",
       "    </tr>\n",
       "    <tr>\n",
       "      <th>8</th>\n",
       "      <td>2</td>\n",
       "    </tr>\n",
       "    <tr>\n",
       "      <th>9</th>\n",
       "      <td>12</td>\n",
       "    </tr>\n",
       "    <tr>\n",
       "      <th>10</th>\n",
       "      <td>9</td>\n",
       "    </tr>\n",
       "    <tr>\n",
       "      <th>11</th>\n",
       "      <td>14</td>\n",
       "    </tr>\n",
       "    <tr>\n",
       "      <th>12</th>\n",
       "      <td>9</td>\n",
       "    </tr>\n",
       "    <tr>\n",
       "      <th>13</th>\n",
       "      <td>13</td>\n",
       "    </tr>\n",
       "  </tbody>\n",
       "</table>\n",
       "</div>"
      ],
      "text/plain": [
       "         artist_name\n",
       "cluster             \n",
       "0                 10\n",
       "1                 13\n",
       "2                 12\n",
       "3                  5\n",
       "4                 10\n",
       "5                 14\n",
       "6                 13\n",
       "7                 13\n",
       "8                  2\n",
       "9                 12\n",
       "10                 9\n",
       "11                14\n",
       "12                 9\n",
       "13                13"
      ]
     },
     "execution_count": 219,
     "metadata": {},
     "output_type": "execute_result"
    }
   ],
   "source": [
    "audio_data.groupby('cluster').nunique()[['artist_name']]"
   ]
  },
  {
   "cell_type": "code",
   "execution_count": 221,
   "metadata": {},
   "outputs": [
    {
     "data": {
      "text/html": [
       "<div>\n",
       "<style scoped>\n",
       "    .dataframe tbody tr th:only-of-type {\n",
       "        vertical-align: middle;\n",
       "    }\n",
       "\n",
       "    .dataframe tbody tr th {\n",
       "        vertical-align: top;\n",
       "    }\n",
       "\n",
       "    .dataframe thead th {\n",
       "        text-align: right;\n",
       "    }\n",
       "</style>\n",
       "<table border=\"1\" class=\"dataframe\">\n",
       "  <thead>\n",
       "    <tr style=\"text-align: right;\">\n",
       "      <th></th>\n",
       "      <th>uri</th>\n",
       "      <th>danceability</th>\n",
       "      <th>energy</th>\n",
       "      <th>accousticness</th>\n",
       "      <th>instrumentalness</th>\n",
       "      <th>liveness</th>\n",
       "      <th>loudness</th>\n",
       "      <th>speechiness</th>\n",
       "      <th>tempo</th>\n",
       "      <th>valence</th>\n",
       "      <th>popularity</th>\n",
       "      <th>is_train</th>\n",
       "      <th>cluster</th>\n",
       "      <th>album</th>\n",
       "      <th>track_number</th>\n",
       "      <th>id</th>\n",
       "      <th>song_name</th>\n",
       "      <th>song_uri</th>\n",
       "      <th>artist_name</th>\n",
       "    </tr>\n",
       "  </thead>\n",
       "  <tbody>\n",
       "    <tr>\n",
       "      <th>58</th>\n",
       "      <td>spotify:track:58kikhzxjR5yaA1t8LFLqJ</td>\n",
       "      <td>0.585</td>\n",
       "      <td>0.1900</td>\n",
       "      <td>0.9750</td>\n",
       "      <td>0.0000</td>\n",
       "      <td>0.1050</td>\n",
       "      <td>-6.898</td>\n",
       "      <td>0.0938</td>\n",
       "      <td>174.362</td>\n",
       "      <td>0.7140</td>\n",
       "      <td>0</td>\n",
       "      <td>True</td>\n",
       "      <td>3</td>\n",
       "      <td>The Life Of Pablo</td>\n",
       "      <td>14</td>\n",
       "      <td>58kikhzxjR5yaA1t8LFLqJ</td>\n",
       "      <td>Frank's Track</td>\n",
       "      <td>spotify:track:58kikhzxjR5yaA1t8LFLqJ</td>\n",
       "      <td>Kanye West</td>\n",
       "    </tr>\n",
       "    <tr>\n",
       "      <th>224</th>\n",
       "      <td>spotify:track:4ulYASOuCUwa2hQRsE2OVh</td>\n",
       "      <td>0.603</td>\n",
       "      <td>0.4010</td>\n",
       "      <td>0.5420</td>\n",
       "      <td>0.2250</td>\n",
       "      <td>0.1030</td>\n",
       "      <td>-10.155</td>\n",
       "      <td>0.0306</td>\n",
       "      <td>172.633</td>\n",
       "      <td>0.3470</td>\n",
       "      <td>7</td>\n",
       "      <td>False</td>\n",
       "      <td>3</td>\n",
       "      <td>808s &amp; Heartbreak</td>\n",
       "      <td>1</td>\n",
       "      <td>4ulYASOuCUwa2hQRsE2OVh</td>\n",
       "      <td>Say You Will</td>\n",
       "      <td>spotify:track:4ulYASOuCUwa2hQRsE2OVh</td>\n",
       "      <td>Kanye West</td>\n",
       "    </tr>\n",
       "    <tr>\n",
       "      <th>236</th>\n",
       "      <td>spotify:track:5e5MKPtJuFb8NaeSEyV5gD</td>\n",
       "      <td>0.603</td>\n",
       "      <td>0.4010</td>\n",
       "      <td>0.5420</td>\n",
       "      <td>0.2250</td>\n",
       "      <td>0.1030</td>\n",
       "      <td>-10.155</td>\n",
       "      <td>0.0306</td>\n",
       "      <td>172.633</td>\n",
       "      <td>0.3470</td>\n",
       "      <td>56</td>\n",
       "      <td>True</td>\n",
       "      <td>3</td>\n",
       "      <td>808s &amp; Heartbreak</td>\n",
       "      <td>1</td>\n",
       "      <td>5e5MKPtJuFb8NaeSEyV5gD</td>\n",
       "      <td>Say You Will</td>\n",
       "      <td>spotify:track:5e5MKPtJuFb8NaeSEyV5gD</td>\n",
       "      <td>Kanye West</td>\n",
       "    </tr>\n",
       "    <tr>\n",
       "      <th>1146</th>\n",
       "      <td>spotify:track:6hHKFReuQR9VQp39ev43wY</td>\n",
       "      <td>0.397</td>\n",
       "      <td>0.0906</td>\n",
       "      <td>0.9880</td>\n",
       "      <td>0.8560</td>\n",
       "      <td>0.3440</td>\n",
       "      <td>-21.655</td>\n",
       "      <td>0.0540</td>\n",
       "      <td>185.167</td>\n",
       "      <td>0.1360</td>\n",
       "      <td>50</td>\n",
       "      <td>False</td>\n",
       "      <td>3</td>\n",
       "      <td>So Far Gone</td>\n",
       "      <td>16</td>\n",
       "      <td>6hHKFReuQR9VQp39ev43wY</td>\n",
       "      <td>Outro (feat. Chilly Gonzales)</td>\n",
       "      <td>spotify:track:6hHKFReuQR9VQp39ev43wY</td>\n",
       "      <td>Drake</td>\n",
       "    </tr>\n",
       "    <tr>\n",
       "      <th>1164</th>\n",
       "      <td>spotify:track:5hKi8LHc2GF5v9TSsvgZaf</td>\n",
       "      <td>0.393</td>\n",
       "      <td>0.0878</td>\n",
       "      <td>0.9890</td>\n",
       "      <td>0.8560</td>\n",
       "      <td>0.3160</td>\n",
       "      <td>-21.628</td>\n",
       "      <td>0.0530</td>\n",
       "      <td>185.562</td>\n",
       "      <td>0.1220</td>\n",
       "      <td>13</td>\n",
       "      <td>False</td>\n",
       "      <td>3</td>\n",
       "      <td>So Far Gone</td>\n",
       "      <td>16</td>\n",
       "      <td>5hKi8LHc2GF5v9TSsvgZaf</td>\n",
       "      <td>Outro (feat. Chilly Gonzales)</td>\n",
       "      <td>spotify:track:5hKi8LHc2GF5v9TSsvgZaf</td>\n",
       "      <td>Drake</td>\n",
       "    </tr>\n",
       "    <tr>\n",
       "      <th>1460</th>\n",
       "      <td>spotify:track:6lSxM9BKcEZBSDKl2VODsF</td>\n",
       "      <td>0.536</td>\n",
       "      <td>0.3600</td>\n",
       "      <td>0.0823</td>\n",
       "      <td>0.1670</td>\n",
       "      <td>0.0996</td>\n",
       "      <td>-10.973</td>\n",
       "      <td>0.0408</td>\n",
       "      <td>164.891</td>\n",
       "      <td>0.1470</td>\n",
       "      <td>59</td>\n",
       "      <td>True</td>\n",
       "      <td>3</td>\n",
       "      <td>Abbey Road (Super Deluxe Edition)</td>\n",
       "      <td>1</td>\n",
       "      <td>6lSxM9BKcEZBSDKl2VODsF</td>\n",
       "      <td>Come Together - 2019 Mix</td>\n",
       "      <td>spotify:track:6lSxM9BKcEZBSDKl2VODsF</td>\n",
       "      <td>The Beatles</td>\n",
       "    </tr>\n",
       "    <tr>\n",
       "      <th>1468</th>\n",
       "      <td>spotify:track:4kXXWWWIu0avePZXX7cBiW</td>\n",
       "      <td>0.330</td>\n",
       "      <td>0.4420</td>\n",
       "      <td>0.3170</td>\n",
       "      <td>0.0762</td>\n",
       "      <td>0.1490</td>\n",
       "      <td>-12.216</td>\n",
       "      <td>0.0350</td>\n",
       "      <td>173.751</td>\n",
       "      <td>0.3260</td>\n",
       "      <td>53</td>\n",
       "      <td>True</td>\n",
       "      <td>3</td>\n",
       "      <td>Abbey Road (Super Deluxe Edition)</td>\n",
       "      <td>9</td>\n",
       "      <td>4kXXWWWIu0avePZXX7cBiW</td>\n",
       "      <td>You Never Give Me Your Money - 2019 Mix</td>\n",
       "      <td>spotify:track:4kXXWWWIu0avePZXX7cBiW</td>\n",
       "      <td>The Beatles</td>\n",
       "    </tr>\n",
       "    <tr>\n",
       "      <th>1732</th>\n",
       "      <td>spotify:track:2EqlS6tkEnglzr7tkKAAYD</td>\n",
       "      <td>0.533</td>\n",
       "      <td>0.3760</td>\n",
       "      <td>0.0302</td>\n",
       "      <td>0.2480</td>\n",
       "      <td>0.0926</td>\n",
       "      <td>-11.913</td>\n",
       "      <td>0.0393</td>\n",
       "      <td>165.007</td>\n",
       "      <td>0.1870</td>\n",
       "      <td>79</td>\n",
       "      <td>True</td>\n",
       "      <td>3</td>\n",
       "      <td>Abbey Road (Remastered)</td>\n",
       "      <td>1</td>\n",
       "      <td>2EqlS6tkEnglzr7tkKAAYD</td>\n",
       "      <td>Come Together - Remastered 2009</td>\n",
       "      <td>spotify:track:2EqlS6tkEnglzr7tkKAAYD</td>\n",
       "      <td>The Beatles</td>\n",
       "    </tr>\n",
       "    <tr>\n",
       "      <th>1740</th>\n",
       "      <td>spotify:track:1jOLTO379yIu9aMnCkpMQl</td>\n",
       "      <td>0.335</td>\n",
       "      <td>0.4160</td>\n",
       "      <td>0.3450</td>\n",
       "      <td>0.1360</td>\n",
       "      <td>0.1160</td>\n",
       "      <td>-11.051</td>\n",
       "      <td>0.0348</td>\n",
       "      <td>174.464</td>\n",
       "      <td>0.2230</td>\n",
       "      <td>59</td>\n",
       "      <td>False</td>\n",
       "      <td>3</td>\n",
       "      <td>Abbey Road (Remastered)</td>\n",
       "      <td>9</td>\n",
       "      <td>1jOLTO379yIu9aMnCkpMQl</td>\n",
       "      <td>You Never Give Me Your Money - Remastered 2009</td>\n",
       "      <td>spotify:track:1jOLTO379yIu9aMnCkpMQl</td>\n",
       "      <td>The Beatles</td>\n",
       "    </tr>\n",
       "    <tr>\n",
       "      <th>1971</th>\n",
       "      <td>spotify:track:2VqKx3HH8gaZPabNWYvksy</td>\n",
       "      <td>0.705</td>\n",
       "      <td>0.4330</td>\n",
       "      <td>0.3880</td>\n",
       "      <td>0.1340</td>\n",
       "      <td>0.0841</td>\n",
       "      <td>-9.706</td>\n",
       "      <td>0.2040</td>\n",
       "      <td>168.006</td>\n",
       "      <td>0.6020</td>\n",
       "      <td>71</td>\n",
       "      <td>True</td>\n",
       "      <td>3</td>\n",
       "      <td>- Ugh, those feels again</td>\n",
       "      <td>2</td>\n",
       "      <td>2VqKx3HH8gaZPabNWYvksy</td>\n",
       "      <td>I Want You Around</td>\n",
       "      <td>spotify:track:2VqKx3HH8gaZPabNWYvksy</td>\n",
       "      <td>Snoh Aalegra</td>\n",
       "    </tr>\n",
       "    <tr>\n",
       "      <th>1985</th>\n",
       "      <td>spotify:track:6E3D7NkBDwVaEbUS1aSYz1</td>\n",
       "      <td>0.713</td>\n",
       "      <td>0.4440</td>\n",
       "      <td>0.3820</td>\n",
       "      <td>0.1930</td>\n",
       "      <td>0.0830</td>\n",
       "      <td>-9.704</td>\n",
       "      <td>0.2060</td>\n",
       "      <td>168.031</td>\n",
       "      <td>0.6020</td>\n",
       "      <td>41</td>\n",
       "      <td>False</td>\n",
       "      <td>3</td>\n",
       "      <td>- Ugh, those feels again</td>\n",
       "      <td>2</td>\n",
       "      <td>6E3D7NkBDwVaEbUS1aSYz1</td>\n",
       "      <td>I Want You Around</td>\n",
       "      <td>spotify:track:6E3D7NkBDwVaEbUS1aSYz1</td>\n",
       "      <td>Snoh Aalegra</td>\n",
       "    </tr>\n",
       "    <tr>\n",
       "      <th>2515</th>\n",
       "      <td>spotify:track:1Rdd86FXUBFhBwSQBG9nkm</td>\n",
       "      <td>0.419</td>\n",
       "      <td>0.1590</td>\n",
       "      <td>0.5120</td>\n",
       "      <td>0.8430</td>\n",
       "      <td>0.1260</td>\n",
       "      <td>-19.934</td>\n",
       "      <td>0.1880</td>\n",
       "      <td>174.130</td>\n",
       "      <td>0.0566</td>\n",
       "      <td>33</td>\n",
       "      <td>False</td>\n",
       "      <td>3</td>\n",
       "      <td>Soundtrack To A Death</td>\n",
       "      <td>1</td>\n",
       "      <td>1Rdd86FXUBFhBwSQBG9nkm</td>\n",
       "      <td>Intro?</td>\n",
       "      <td>spotify:track:1Rdd86FXUBFhBwSQBG9nkm</td>\n",
       "      <td>Mura Masa</td>\n",
       "    </tr>\n",
       "    <tr>\n",
       "      <th>2520</th>\n",
       "      <td>spotify:track:7u6Wl10noSzDOL2aiDJHNh</td>\n",
       "      <td>0.821</td>\n",
       "      <td>0.4060</td>\n",
       "      <td>0.8120</td>\n",
       "      <td>0.1620</td>\n",
       "      <td>0.1070</td>\n",
       "      <td>-9.465</td>\n",
       "      <td>0.2120</td>\n",
       "      <td>176.077</td>\n",
       "      <td>0.4590</td>\n",
       "      <td>45</td>\n",
       "      <td>True</td>\n",
       "      <td>3</td>\n",
       "      <td>Soundtrack To A Death</td>\n",
       "      <td>6</td>\n",
       "      <td>7u6Wl10noSzDOL2aiDJHNh</td>\n",
       "      <td>Miss You</td>\n",
       "      <td>spotify:track:7u6Wl10noSzDOL2aiDJHNh</td>\n",
       "      <td>Mura Masa</td>\n",
       "    </tr>\n",
       "  </tbody>\n",
       "</table>\n",
       "</div>"
      ],
      "text/plain": [
       "                                       uri  danceability  energy  \\\n",
       "58    spotify:track:58kikhzxjR5yaA1t8LFLqJ         0.585  0.1900   \n",
       "224   spotify:track:4ulYASOuCUwa2hQRsE2OVh         0.603  0.4010   \n",
       "236   spotify:track:5e5MKPtJuFb8NaeSEyV5gD         0.603  0.4010   \n",
       "1146  spotify:track:6hHKFReuQR9VQp39ev43wY         0.397  0.0906   \n",
       "1164  spotify:track:5hKi8LHc2GF5v9TSsvgZaf         0.393  0.0878   \n",
       "1460  spotify:track:6lSxM9BKcEZBSDKl2VODsF         0.536  0.3600   \n",
       "1468  spotify:track:4kXXWWWIu0avePZXX7cBiW         0.330  0.4420   \n",
       "1732  spotify:track:2EqlS6tkEnglzr7tkKAAYD         0.533  0.3760   \n",
       "1740  spotify:track:1jOLTO379yIu9aMnCkpMQl         0.335  0.4160   \n",
       "1971  spotify:track:2VqKx3HH8gaZPabNWYvksy         0.705  0.4330   \n",
       "1985  spotify:track:6E3D7NkBDwVaEbUS1aSYz1         0.713  0.4440   \n",
       "2515  spotify:track:1Rdd86FXUBFhBwSQBG9nkm         0.419  0.1590   \n",
       "2520  spotify:track:7u6Wl10noSzDOL2aiDJHNh         0.821  0.4060   \n",
       "\n",
       "      accousticness  instrumentalness  liveness  loudness  speechiness  \\\n",
       "58           0.9750            0.0000    0.1050    -6.898       0.0938   \n",
       "224          0.5420            0.2250    0.1030   -10.155       0.0306   \n",
       "236          0.5420            0.2250    0.1030   -10.155       0.0306   \n",
       "1146         0.9880            0.8560    0.3440   -21.655       0.0540   \n",
       "1164         0.9890            0.8560    0.3160   -21.628       0.0530   \n",
       "1460         0.0823            0.1670    0.0996   -10.973       0.0408   \n",
       "1468         0.3170            0.0762    0.1490   -12.216       0.0350   \n",
       "1732         0.0302            0.2480    0.0926   -11.913       0.0393   \n",
       "1740         0.3450            0.1360    0.1160   -11.051       0.0348   \n",
       "1971         0.3880            0.1340    0.0841    -9.706       0.2040   \n",
       "1985         0.3820            0.1930    0.0830    -9.704       0.2060   \n",
       "2515         0.5120            0.8430    0.1260   -19.934       0.1880   \n",
       "2520         0.8120            0.1620    0.1070    -9.465       0.2120   \n",
       "\n",
       "        tempo  valence  popularity  is_train  cluster  \\\n",
       "58    174.362   0.7140           0      True        3   \n",
       "224   172.633   0.3470           7     False        3   \n",
       "236   172.633   0.3470          56      True        3   \n",
       "1146  185.167   0.1360          50     False        3   \n",
       "1164  185.562   0.1220          13     False        3   \n",
       "1460  164.891   0.1470          59      True        3   \n",
       "1468  173.751   0.3260          53      True        3   \n",
       "1732  165.007   0.1870          79      True        3   \n",
       "1740  174.464   0.2230          59     False        3   \n",
       "1971  168.006   0.6020          71      True        3   \n",
       "1985  168.031   0.6020          41     False        3   \n",
       "2515  174.130   0.0566          33     False        3   \n",
       "2520  176.077   0.4590          45      True        3   \n",
       "\n",
       "                                  album  track_number                      id  \\\n",
       "58                    The Life Of Pablo            14  58kikhzxjR5yaA1t8LFLqJ   \n",
       "224                   808s & Heartbreak             1  4ulYASOuCUwa2hQRsE2OVh   \n",
       "236                   808s & Heartbreak             1  5e5MKPtJuFb8NaeSEyV5gD   \n",
       "1146                        So Far Gone            16  6hHKFReuQR9VQp39ev43wY   \n",
       "1164                        So Far Gone            16  5hKi8LHc2GF5v9TSsvgZaf   \n",
       "1460  Abbey Road (Super Deluxe Edition)             1  6lSxM9BKcEZBSDKl2VODsF   \n",
       "1468  Abbey Road (Super Deluxe Edition)             9  4kXXWWWIu0avePZXX7cBiW   \n",
       "1732            Abbey Road (Remastered)             1  2EqlS6tkEnglzr7tkKAAYD   \n",
       "1740            Abbey Road (Remastered)             9  1jOLTO379yIu9aMnCkpMQl   \n",
       "1971           - Ugh, those feels again             2  2VqKx3HH8gaZPabNWYvksy   \n",
       "1985           - Ugh, those feels again             2  6E3D7NkBDwVaEbUS1aSYz1   \n",
       "2515              Soundtrack To A Death             1  1Rdd86FXUBFhBwSQBG9nkm   \n",
       "2520              Soundtrack To A Death             6  7u6Wl10noSzDOL2aiDJHNh   \n",
       "\n",
       "                                           song_name  \\\n",
       "58                                     Frank's Track   \n",
       "224                                     Say You Will   \n",
       "236                                     Say You Will   \n",
       "1146                   Outro (feat. Chilly Gonzales)   \n",
       "1164                   Outro (feat. Chilly Gonzales)   \n",
       "1460                        Come Together - 2019 Mix   \n",
       "1468         You Never Give Me Your Money - 2019 Mix   \n",
       "1732                 Come Together - Remastered 2009   \n",
       "1740  You Never Give Me Your Money - Remastered 2009   \n",
       "1971                               I Want You Around   \n",
       "1985                               I Want You Around   \n",
       "2515                                          Intro?   \n",
       "2520                                        Miss You   \n",
       "\n",
       "                                  song_uri   artist_name  \n",
       "58    spotify:track:58kikhzxjR5yaA1t8LFLqJ    Kanye West  \n",
       "224   spotify:track:4ulYASOuCUwa2hQRsE2OVh    Kanye West  \n",
       "236   spotify:track:5e5MKPtJuFb8NaeSEyV5gD    Kanye West  \n",
       "1146  spotify:track:6hHKFReuQR9VQp39ev43wY         Drake  \n",
       "1164  spotify:track:5hKi8LHc2GF5v9TSsvgZaf         Drake  \n",
       "1460  spotify:track:6lSxM9BKcEZBSDKl2VODsF   The Beatles  \n",
       "1468  spotify:track:4kXXWWWIu0avePZXX7cBiW   The Beatles  \n",
       "1732  spotify:track:2EqlS6tkEnglzr7tkKAAYD   The Beatles  \n",
       "1740  spotify:track:1jOLTO379yIu9aMnCkpMQl   The Beatles  \n",
       "1971  spotify:track:2VqKx3HH8gaZPabNWYvksy  Snoh Aalegra  \n",
       "1985  spotify:track:6E3D7NkBDwVaEbUS1aSYz1  Snoh Aalegra  \n",
       "2515  spotify:track:1Rdd86FXUBFhBwSQBG9nkm     Mura Masa  \n",
       "2520  spotify:track:7u6Wl10noSzDOL2aiDJHNh     Mura Masa  "
      ]
     },
     "execution_count": 221,
     "metadata": {},
     "output_type": "execute_result"
    }
   ],
   "source": []
  },
  {
   "cell_type": "code",
   "execution_count": 229,
   "metadata": {},
   "outputs": [],
   "source": [
    "gm = GaussianMixture(n_components=11)"
   ]
  },
  {
   "cell_type": "code",
   "execution_count": 230,
   "metadata": {},
   "outputs": [
    {
     "data": {
      "text/plain": [
       "GaussianMixture(covariance_type='full', init_params='kmeans', max_iter=100,\n",
       "                means_init=None, n_components=11, n_init=1,\n",
       "                precisions_init=None, random_state=None, reg_covar=1e-06,\n",
       "                tol=0.001, verbose=0, verbose_interval=10, warm_start=False,\n",
       "                weights_init=None)"
      ]
     },
     "execution_count": 230,
     "metadata": {},
     "output_type": "execute_result"
    }
   ],
   "source": [
    "gm.fit(audio_data[audio_data.artist_name=='Kanye West'][features])"
   ]
  },
  {
   "cell_type": "code",
   "execution_count": 231,
   "metadata": {},
   "outputs": [],
   "source": [
    "kanye_songs = audio_data[audio_data.artist_name=='Kanye West']"
   ]
  },
  {
   "cell_type": "code",
   "execution_count": 232,
   "metadata": {},
   "outputs": [
    {
     "name": "stderr",
     "output_type": "stream",
     "text": [
      "/Users/lancemack/analyzing_music/env3/lib/python3.6/site-packages/ipykernel_launcher.py:1: SettingWithCopyWarning: \n",
      "A value is trying to be set on a copy of a slice from a DataFrame.\n",
      "Try using .loc[row_indexer,col_indexer] = value instead\n",
      "\n",
      "See the caveats in the documentation: http://pandas.pydata.org/pandas-docs/stable/user_guide/indexing.html#returning-a-view-versus-a-copy\n",
      "  \"\"\"Entry point for launching an IPython kernel.\n"
     ]
    }
   ],
   "source": [
    "kanye_songs['cluster'] = gm.predict(kanye_songs[features])"
   ]
  },
  {
   "cell_type": "code",
   "execution_count": 233,
   "metadata": {},
   "outputs": [
    {
     "data": {
      "text/plain": [
       "cluster\n",
       "0      7\n",
       "1      9\n",
       "2      8\n",
       "3     11\n",
       "4      7\n",
       "5      7\n",
       "6      8\n",
       "7      5\n",
       "8      7\n",
       "9      1\n",
       "10     7\n",
       "Name: album, dtype: int64"
      ]
     },
     "execution_count": 233,
     "metadata": {},
     "output_type": "execute_result"
    }
   ],
   "source": [
    "kanye_songs.groupby('cluster').nunique()['album']"
   ]
  },
  {
   "cell_type": "code",
   "execution_count": null,
   "metadata": {},
   "outputs": [],
   "source": []
  }
 ],
 "metadata": {
  "kernelspec": {
   "display_name": "Python 3",
   "language": "python",
   "name": "python3"
  },
  "language_info": {
   "codemirror_mode": {
    "name": "ipython",
    "version": 3
   },
   "file_extension": ".py",
   "mimetype": "text/x-python",
   "name": "python",
   "nbconvert_exporter": "python",
   "pygments_lexer": "ipython3",
   "version": "3.6.4"
  }
 },
 "nbformat": 4,
 "nbformat_minor": 2
}
