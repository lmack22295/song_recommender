{
 "cells": [
  {
   "cell_type": "code",
   "execution_count": 979,
   "metadata": {},
   "outputs": [],
   "source": [
    "#!/usr/bin/python\n",
    "#- * -coding: utf - 8 - * -\n",
    "\n",
    "import urllib.request\n",
    "import urllib.parse\n",
    "import urllib.error\n",
    "from bs4 import BeautifulSoup\n",
    "import ssl\n",
    "import json\n",
    "import string\n",
    "import ast\n",
    "import os\n",
    "from urllib.request import Request, urlopen\n",
    "\n",
    "# For ignoring SSL certificate errors\n",
    "\n",
    "import pandas as pd\n",
    "import numpy as np\n",
    "# import matplotlib.pyplot as plt\n",
    "# import seaborn\n",
    "from sklearn.cluster import KMeans\n",
    "from sklearn.feature_extraction.text import TfidfVectorizer, CountVectorizer\n",
    "from nltk.corpus import stopwords\n",
    "from nltk.stem import WordNetLemmatizer\n",
    "from sklearn.decomposition import PCA\n",
    "from sklearn.decomposition import TruncatedSVD\n",
    "import nltk\n",
    "# from wordcloud import WordCloud\n",
    "from sklearn.linear_model import LogisticRegression\n",
    "from sklearn.model_selection import train_test_split\n",
    "from sklearn.dummy import DummyClassifier\n",
    "from sklearn.decomposition import LatentDirichletAllocation"
   ]
  },
  {
   "cell_type": "code",
   "execution_count": 119,
   "metadata": {},
   "outputs": [],
   "source": [
    "def get_artists_given_first_letter(letter):\n",
    "    artists_list = []\n",
    "    ctx = ssl.create_default_context()\n",
    "    ctx.check_hostname = False\n",
    "    ctx.verify_mode = ssl.CERT_NONE\n",
    "\n",
    "    # Input from user\n",
    "    url = \"https://genius.com/artists-index/{}\".format(letter)\n",
    "    # Making the website believe that you are accessing it using a mozilla browser\n",
    "    req = Request(url, headers = { 'User-Agent' : 'Mozilla/5.0' })\n",
    "    webpage = urlopen(req).read()\n",
    "\n",
    "    # Creating a BeautifulSoup object of the html page for easy extraction of data.\n",
    "\n",
    "    soup = BeautifulSoup(webpage, 'html.parser')\n",
    "    html = soup.prettify('utf-8')\n",
    "    \n",
    "    artists_list = []\n",
    "    # gets popular artists under first_name starting with letter\n",
    "    for artist_span in soup.findAll('li', attrs = {'class': 'artists_index_list-popular_artist'}):\n",
    "        artists_list.append(artist_span.find_all('a', attrs={'class': 'artists_index_list-artist_name'})[0].text)\n",
    "    # gets general artists under first_name starting with letter\n",
    "    for artist_span in soup.findAll('ul', attrs = {'class': 'artists_index_list'})[1].find_all('li'):\n",
    "        artists_list.append(artist_span.text.strip())\n",
    "    return artists_list"
   ]
  },
  {
   "cell_type": "code",
   "execution_count": 43,
   "metadata": {},
   "outputs": [],
   "source": [
    "def get_popular_songs_from_genius(artist):\n",
    "    artist_str = '-'.join(artist.split(' '))\n",
    "    ctx = ssl.create_default_context()\n",
    "    ctx.check_hostname = False\n",
    "    ctx.verify_mode = ssl.CERT_NONE\n",
    "\n",
    "    # Input from user\n",
    "    url = \"https://genius.com/artists/{}\".format(artist_str)\n",
    "\n",
    "    # Making the website believe that you are accessing it using a mozilla browser\n",
    "    req = Request(url, headers = { 'User-Agent' : 'Mozilla/5.0' })\n",
    "    webpage = urlopen(req).read()\n",
    "\n",
    "    # Creating a BeautifulSoup object of the html page for easy extraction of data.\n",
    "\n",
    "    soup = BeautifulSoup(webpage, 'html.parser')\n",
    "    html = soup.prettify('utf-8')\n",
    "    song_json = {}\n",
    "    song_json[\"Lyrics\"] = [];\n",
    "    song_json[\"Comments\"] = [];\n",
    "\n",
    "    return [i.text.strip() for i in soup.findAll('div',attrs = {'class': 'mini_card-title'})]"
   ]
  },
  {
   "cell_type": "code",
   "execution_count": 125,
   "metadata": {},
   "outputs": [],
   "source": [
    "all_artists_list = []\n",
    "for l in list(string.ascii_lowercase):\n",
    "    all_artists_list.extend(get_artists_given_first_letter(l))"
   ]
  },
  {
   "cell_type": "code",
   "execution_count": 150,
   "metadata": {},
   "outputs": [],
   "source": [
    "filtered_artists = list(filter(lambda x: all(ord(char) < 128 for char in x), all_artists_list))"
   ]
  },
  {
   "cell_type": "code",
   "execution_count": null,
   "metadata": {},
   "outputs": [],
   "source": []
  },
  {
   "cell_type": "code",
   "execution_count": 2,
   "metadata": {},
   "outputs": [
    {
     "data": {
      "text/plain": [
       "'/Users/lancemack/analyzing_music'"
      ]
     },
     "execution_count": 2,
     "metadata": {},
     "output_type": "execute_result"
    }
   ],
   "source": []
  },
  {
   "cell_type": "code",
   "execution_count": null,
   "metadata": {},
   "outputs": [],
   "source": []
  }
 ],
 "metadata": {
  "kernelspec": {
   "display_name": "Python 3",
   "language": "python",
   "name": "python3"
  },
  "language_info": {
   "codemirror_mode": {
    "name": "ipython",
    "version": 3
   },
   "file_extension": ".py",
   "mimetype": "text/x-python",
   "name": "python",
   "nbconvert_exporter": "python",
   "pygments_lexer": "ipython3",
   "version": "3.6.4"
  }
 },
 "nbformat": 4,
 "nbformat_minor": 2
}
